{
 "cells": [
  {
   "cell_type": "code",
   "execution_count": 1,
   "id": "80351f08",
   "metadata": {
    "_cell_guid": "b1076dfc-b9ad-4769-8c92-a6c4dae69d19",
    "_uuid": "8f2839f25d086af736a60e9eeb907d3b93b6e0e5",
    "execution": {
     "iopub.execute_input": "2023-11-17T18:04:06.206639Z",
     "iopub.status.busy": "2023-11-17T18:04:06.206265Z",
     "iopub.status.idle": "2023-11-17T18:04:06.679483Z",
     "shell.execute_reply": "2023-11-17T18:04:06.678579Z"
    },
    "papermill": {
     "duration": 0.490588,
     "end_time": "2023-11-17T18:04:06.682712",
     "exception": false,
     "start_time": "2023-11-17T18:04:06.192124",
     "status": "completed"
    },
    "tags": []
   },
   "outputs": [
    {
     "name": "stdout",
     "output_type": "stream",
     "text": [
      "/kaggle/input/mnist-dataset/train-images.idx3-ubyte\n",
      "/kaggle/input/mnist-dataset/t10k-labels.idx1-ubyte\n",
      "/kaggle/input/mnist-dataset/t10k-images.idx3-ubyte\n",
      "/kaggle/input/mnist-dataset/train-labels.idx1-ubyte\n",
      "/kaggle/input/mnist-dataset/t10k-labels-idx1-ubyte/t10k-labels-idx1-ubyte\n",
      "/kaggle/input/mnist-dataset/t10k-images-idx3-ubyte/t10k-images-idx3-ubyte\n",
      "/kaggle/input/mnist-dataset/train-labels-idx1-ubyte/train-labels-idx1-ubyte\n",
      "/kaggle/input/mnist-dataset/train-images-idx3-ubyte/train-images-idx3-ubyte\n"
     ]
    }
   ],
   "source": [
    "# This Python 3 environment comes with many helpful analytics libraries installed\n",
    "# It is defined by the kaggle/python Docker image: https://github.com/kaggle/docker-python\n",
    "# For example, here's several help ful packages to load\n",
    "\n",
    "import numpy as np # linear algebra\n",
    "import pandas as pd # data processing, CSV file I/O (e.g. pd.read_csv)\n",
    "\n",
    "# Input data files are available in the read-only \"../input/\" directory\n",
    "# For example, running this (by clicking run or pressing Shift+Enter) will list all files under the input directory\n",
    "\n",
    "import os\n",
    "for dirname, _, filenames in os.walk('/kaggle/input'):\n",
    "    for filename in filenames:\n",
    "        print(os.path.join(dirname, filename))\n",
    "\n",
    "# You can write up to 20GB to the current directory (/kaggle/working/) that gets preserved as output when you create a version using \"Save & Run All\" \n",
    "# You can also write temporary files to /kaggle/temp/, but they won't be saved outside of the current session"
   ]
  },
  {
   "cell_type": "code",
   "execution_count": 2,
   "id": "d0d9d086",
   "metadata": {
    "execution": {
     "iopub.execute_input": "2023-11-17T18:04:06.700422Z",
     "iopub.status.busy": "2023-11-17T18:04:06.699405Z",
     "iopub.status.idle": "2023-11-17T18:04:06.703708Z",
     "shell.execute_reply": "2023-11-17T18:04:06.703012Z"
    },
    "papermill": {
     "duration": 0.01539,
     "end_time": "2023-11-17T18:04:06.705925",
     "exception": false,
     "start_time": "2023-11-17T18:04:06.690535",
     "status": "completed"
    },
    "tags": []
   },
   "outputs": [],
   "source": [
    "# layers -> (i/p layer 784 nodes) (128 nodes in hidden layer1) (10 nodes in o/p layer 0-9)"
   ]
  },
  {
   "cell_type": "code",
   "execution_count": 3,
   "id": "4cd26da5",
   "metadata": {
    "execution": {
     "iopub.execute_input": "2023-11-17T18:04:06.722702Z",
     "iopub.status.busy": "2023-11-17T18:04:06.722015Z",
     "iopub.status.idle": "2023-11-17T18:04:19.769719Z",
     "shell.execute_reply": "2023-11-17T18:04:19.768511Z"
    },
    "papermill": {
     "duration": 13.059142,
     "end_time": "2023-11-17T18:04:19.772472",
     "exception": false,
     "start_time": "2023-11-17T18:04:06.713330",
     "status": "completed"
    },
    "tags": []
   },
   "outputs": [],
   "source": [
    "import tensorflow\n",
    "from tensorflow import keras\n",
    "from tensorflow.keras import Sequential\n",
    "from tensorflow.keras.layers import Dense,Flatten"
   ]
  },
  {
   "cell_type": "code",
   "execution_count": 4,
   "id": "b8e28ca8",
   "metadata": {
    "execution": {
     "iopub.execute_input": "2023-11-17T18:04:19.789700Z",
     "iopub.status.busy": "2023-11-17T18:04:19.788973Z",
     "iopub.status.idle": "2023-11-17T18:04:22.082717Z",
     "shell.execute_reply": "2023-11-17T18:04:22.081348Z"
    },
    "papermill": {
     "duration": 2.305513,
     "end_time": "2023-11-17T18:04:22.085607",
     "exception": false,
     "start_time": "2023-11-17T18:04:19.780094",
     "status": "completed"
    },
    "tags": []
   },
   "outputs": [
    {
     "name": "stdout",
     "output_type": "stream",
     "text": [
      "Downloading data from https://storage.googleapis.com/tensorflow/tf-keras-datasets/mnist.npz\n",
      "11490434/11490434 [==============================] - 1s 0us/step\n"
     ]
    }
   ],
   "source": [
    "(x_train,y_train),(x_test,y_test) = keras.datasets.mnist.load_data()"
   ]
  },
  {
   "cell_type": "code",
   "execution_count": 5,
   "id": "d5f8d31e",
   "metadata": {
    "execution": {
     "iopub.execute_input": "2023-11-17T18:04:22.106381Z",
     "iopub.status.busy": "2023-11-17T18:04:22.105941Z",
     "iopub.status.idle": "2023-11-17T18:04:22.113729Z",
     "shell.execute_reply": "2023-11-17T18:04:22.112658Z"
    },
    "papermill": {
     "duration": 0.02083,
     "end_time": "2023-11-17T18:04:22.116060",
     "exception": false,
     "start_time": "2023-11-17T18:04:22.095230",
     "status": "completed"
    },
    "tags": []
   },
   "outputs": [
    {
     "data": {
      "text/plain": [
       "(60000, 28, 28)"
      ]
     },
     "execution_count": 5,
     "metadata": {},
     "output_type": "execute_result"
    }
   ],
   "source": [
    "x_train.shape # 60k images, each of 28*28"
   ]
  },
  {
   "cell_type": "code",
   "execution_count": 6,
   "id": "89815f09",
   "metadata": {
    "execution": {
     "iopub.execute_input": "2023-11-17T18:04:22.137026Z",
     "iopub.status.busy": "2023-11-17T18:04:22.136601Z",
     "iopub.status.idle": "2023-11-17T18:04:22.442123Z",
     "shell.execute_reply": "2023-11-17T18:04:22.440952Z"
    },
    "papermill": {
     "duration": 0.318981,
     "end_time": "2023-11-17T18:04:22.444678",
     "exception": false,
     "start_time": "2023-11-17T18:04:22.125697",
     "status": "completed"
    },
    "tags": []
   },
   "outputs": [
    {
     "data": {
      "text/plain": [
       "<matplotlib.image.AxesImage at 0x7c202fc6c100>"
      ]
     },
     "execution_count": 6,
     "metadata": {},
     "output_type": "execute_result"
    },
    {
     "data": {
      "image/png": "[encoded data removed]",
      "text/plain": [
       "<Figure size 640x480 with 1 Axes>"
      ]
     },
     "metadata": {},
     "output_type": "display_data"
    }
   ],
   "source": [
    "import matplotlib.pyplot as plt\n",
    "plt.imshow(x_train[0])"
   ]
  },
  {
   "cell_type": "code",
   "execution_count": 7,
   "id": "347491ae",
   "metadata": {
    "execution": {
     "iopub.execute_input": "2023-11-17T18:04:22.466574Z",
     "iopub.status.busy": "2023-11-17T18:04:22.466161Z",
     "iopub.status.idle": "2023-11-17T18:04:22.691932Z",
     "shell.execute_reply": "2023-11-17T18:04:22.690979Z"
    },
    "papermill": {
     "duration": 0.239912,
     "end_time": "2023-11-17T18:04:22.694593",
     "exception": false,
     "start_time": "2023-11-17T18:04:22.454681",
     "status": "completed"
    },
    "tags": []
   },
   "outputs": [],
   "source": [
    "x_train = x_train/255\n",
    "x_test = x_test/255 # in range (0-1)"
   ]
  },
  {
   "cell_type": "code",
   "execution_count": 8,
   "id": "9a60b522",
   "metadata": {
    "execution": {
     "iopub.execute_input": "2023-11-17T18:04:22.716919Z",
     "iopub.status.busy": "2023-11-17T18:04:22.716066Z",
     "iopub.status.idle": "2023-11-17T18:04:22.877660Z",
     "shell.execute_reply": "2023-11-17T18:04:22.876691Z"
    },
    "papermill": {
     "duration": 0.175723,
     "end_time": "2023-11-17T18:04:22.880484",
     "exception": false,
     "start_time": "2023-11-17T18:04:22.704761",
     "status": "completed"
    },
    "tags": []
   },
   "outputs": [],
   "source": [
    "model = Sequential()\n",
    "model.add(Flatten(input_shape=(28,28)))\n",
    "model.add(Dense(128,activation='relu'))\n",
    "model.add(Dense(10,activation='softmax'))"
   ]
  },
  {
   "cell_type": "code",
   "execution_count": 9,
   "id": "8146378f",
   "metadata": {
    "execution": {
     "iopub.execute_input": "2023-11-17T18:04:22.902650Z",
     "iopub.status.busy": "2023-11-17T18:04:22.901840Z",
     "iopub.status.idle": "2023-11-17T18:04:22.927260Z",
     "shell.execute_reply": "2023-11-17T18:04:22.926043Z"
    },
    "papermill": {
     "duration": 0.039044,
     "end_time": "2023-11-17T18:04:22.929537",
     "exception": false,
     "start_time": "2023-11-17T18:04:22.890493",
     "status": "completed"
    },
    "tags": []
   },
   "outputs": [
    {
     "name": "stdout",
     "output_type": "stream",
     "text": [
      "Model: \"sequential\"\n",
      "_________________________________________________________________\n",
      " Layer (type)                Output Shape              Param #   \n",
      "=================================================================\n",
      " flatten (Flatten)           (None, 784)               0         \n",
      "                                                                 \n",
      " dense (Dense)               (None, 128)               100480    \n",
      "                                                                 \n",
      " dense_1 (Dense)             (None, 10)                1290      \n",
      "                                                                 \n",
      "=================================================================\n",
      "Total params: 101770 (397.54 KB)\n",
      "Trainable params: 101770 (397.54 KB)\n",
      "Non-trainable params: 0 (0.00 Byte)\n",
      "_________________________________________________________________\n"
     ]
    }
   ],
   "source": [
    "model.summary()"
   ]
  },
  {
   "cell_type": "code",
   "execution_count": 10,
   "id": "14369a56",
   "metadata": {
    "execution": {
     "iopub.execute_input": "2023-11-17T18:04:22.954670Z",
     "iopub.status.busy": "2023-11-17T18:04:22.954257Z",
     "iopub.status.idle": "2023-11-17T18:04:22.973314Z",
     "shell.execute_reply": "2023-11-17T18:04:22.972162Z"
    },
    "papermill": {
     "duration": 0.035287,
     "end_time": "2023-11-17T18:04:22.976132",
     "exception": false,
     "start_time": "2023-11-17T18:04:22.940845",
     "status": "completed"
    },
    "tags": []
   },
   "outputs": [],
   "source": [
    "model.compile(loss='sparse_categorical_crossentropy',optimizer='Adam')"
   ]
  },
  {
   "cell_type": "code",
   "execution_count": 11,
   "id": "700879f3",
   "metadata": {
    "execution": {
     "iopub.execute_input": "2023-11-17T18:04:23.001389Z",
     "iopub.status.busy": "2023-11-17T18:04:23.000935Z",
     "iopub.status.idle": "2023-11-17T18:04:47.775877Z",
     "shell.execute_reply": "2023-11-17T18:04:47.774836Z"
    },
    "papermill": {
     "duration": 24.790503,
     "end_time": "2023-11-17T18:04:47.778356",
     "exception": false,
     "start_time": "2023-11-17T18:04:22.987853",
     "status": "completed"
    },
    "tags": []
   },
   "outputs": [
    {
     "name": "stdout",
     "output_type": "stream",
     "text": [
      "Epoch 1/5\n",
      "1500/1500 [==============================] - 6s 3ms/step - loss: 0.2841 - val_loss: 0.1500\n",
      "Epoch 2/5\n",
      "1500/1500 [==============================] - 5s 3ms/step - loss: 0.1260 - val_loss: 0.1124\n",
      "Epoch 3/5\n",
      "1500/1500 [==============================] - 5s 3ms/step - loss: 0.0864 - val_loss: 0.0962\n",
      "Epoch 4/5\n",
      "1500/1500 [==============================] - 5s 3ms/step - loss: 0.0632 - val_loss: 0.0953\n",
      "Epoch 5/5\n",
      "1500/1500 [==============================] - 5s 3ms/step - loss: 0.0499 - val_loss: 0.0848\n"
     ]
    }
   ],
   "source": [
    "history = model.fit(x_train,y_train,epochs=5,validation_split=0.2)"
   ]
  },
  {
   "cell_type": "code",
   "execution_count": 12,
   "id": "f675cfa7",
   "metadata": {
    "execution": {
     "iopub.execute_input": "2023-11-17T18:04:47.879796Z",
     "iopub.status.busy": "2023-11-17T18:04:47.879382Z",
     "iopub.status.idle": "2023-11-17T18:04:48.717470Z",
     "shell.execute_reply": "2023-11-17T18:04:48.716309Z"
    },
    "papermill": {
     "duration": 0.892325,
     "end_time": "2023-11-17T18:04:48.720593",
     "exception": false,
     "start_time": "2023-11-17T18:04:47.828268",
     "status": "completed"
    },
    "tags": []
   },
   "outputs": [
    {
     "name": "stdout",
     "output_type": "stream",
     "text": [
      "313/313 [==============================] - 1s 1ms/step\n"
     ]
    }
   ],
   "source": [
    "y_prob = model.predict(x_test)"
   ]
  },
  {
   "cell_type": "code",
   "execution_count": 13,
   "id": "9f83cf01",
   "metadata": {
    "execution": {
     "iopub.execute_input": "2023-11-17T18:04:48.823080Z",
     "iopub.status.busy": "2023-11-17T18:04:48.821739Z",
     "iopub.status.idle": "2023-11-17T18:04:48.833524Z",
     "shell.execute_reply": "2023-11-17T18:04:48.832331Z"
    },
    "papermill": {
     "duration": 0.065659,
     "end_time": "2023-11-17T18:04:48.836096",
     "exception": false,
     "start_time": "2023-11-17T18:04:48.770437",
     "status": "completed"
    },
    "tags": []
   },
   "outputs": [
    {
     "data": {
      "text/plain": [
       "array([7, 2, 1, ..., 4, 5, 6])"
      ]
     },
     "execution_count": 13,
     "metadata": {},
     "output_type": "execute_result"
    }
   ],
   "source": [
    "y_prob.argmax(axis=1)"
   ]
  },
  {
   "cell_type": "code",
   "execution_count": 14,
   "id": "8fa92ae8",
   "metadata": {
    "execution": {
     "iopub.execute_input": "2023-11-17T18:04:48.938725Z",
     "iopub.status.busy": "2023-11-17T18:04:48.937721Z",
     "iopub.status.idle": "2023-11-17T18:04:48.945664Z",
     "shell.execute_reply": "2023-11-17T18:04:48.944428Z"
    },
    "papermill": {
     "duration": 0.062016,
     "end_time": "2023-11-17T18:04:48.948284",
     "exception": false,
     "start_time": "2023-11-17T18:04:48.886268",
     "status": "completed"
    },
    "tags": []
   },
   "outputs": [
    {
     "data": {
      "text/plain": [
       "array([[1.69513171e-07, 1.28855049e-09, 6.48326341e-06, ...,\n",
       "        9.98743474e-01, 2.50974631e-06, 6.78700599e-06],\n",
       "       [1.50278847e-08, 5.72618563e-04, 9.99421000e-01, ...,\n",
       "        3.82448283e-12, 2.96033613e-06, 8.94786564e-14],\n",
       "       [1.75179980e-06, 9.95496213e-01, 2.43475341e-04, ...,\n",
       "        2.23635207e-03, 1.30581681e-03, 2.54344995e-05],\n",
       "       ...,\n",
       "       [1.02940529e-11, 1.30363359e-10, 3.66682136e-11, ...,\n",
       "        5.15649299e-06, 1.80134748e-06, 1.50135866e-05],\n",
       "       [1.51303645e-08, 4.19892038e-10, 1.27461045e-11, ...,\n",
       "        1.42078278e-07, 7.31942855e-05, 2.32846498e-09],\n",
       "       [3.80767684e-09, 2.18432484e-14, 3.01139647e-09, ...,\n",
       "        5.71564237e-12, 1.06650466e-09, 5.78875003e-10]], dtype=float32)"
      ]
     },
     "execution_count": 14,
     "metadata": {},
     "output_type": "execute_result"
    }
   ],
   "source": [
    "y_prob # prob of 0,1,2,...9"
   ]
  },
  {
   "cell_type": "code",
   "execution_count": 15,
   "id": "86b9ae7f",
   "metadata": {
    "execution": {
     "iopub.execute_input": "2023-11-17T18:04:49.112808Z",
     "iopub.status.busy": "2023-11-17T18:04:49.112372Z",
     "iopub.status.idle": "2023-11-17T18:04:49.118053Z",
     "shell.execute_reply": "2023-11-17T18:04:49.117206Z"
    },
    "papermill": {
     "duration": 0.121762,
     "end_time": "2023-11-17T18:04:49.120244",
     "exception": false,
     "start_time": "2023-11-17T18:04:48.998482",
     "status": "completed"
    },
    "tags": []
   },
   "outputs": [],
   "source": [
    "y_pred = y_prob.argmax(axis=1)"
   ]
  },
  {
   "cell_type": "code",
   "execution_count": 16,
   "id": "3cbc5ee7",
   "metadata": {
    "execution": {
     "iopub.execute_input": "2023-11-17T18:04:49.223274Z",
     "iopub.status.busy": "2023-11-17T18:04:49.222572Z",
     "iopub.status.idle": "2023-11-17T18:04:50.072145Z",
     "shell.execute_reply": "2023-11-17T18:04:50.070831Z"
    },
    "papermill": {
     "duration": 0.904205,
     "end_time": "2023-11-17T18:04:50.074682",
     "exception": false,
     "start_time": "2023-11-17T18:04:49.170477",
     "status": "completed"
    },
    "tags": []
   },
   "outputs": [
    {
     "data": {
      "text/plain": [
       "0.9768"
      ]
     },
     "execution_count": 16,
     "metadata": {},
     "output_type": "execute_result"
    }
   ],
   "source": [
    "from sklearn.metrics import accuracy_score\n",
    "accuracy_score(y_test,y_pred)"
   ]
  },
  {
   "cell_type": "code",
   "execution_count": 17,
   "id": "e714ae18",
   "metadata": {
    "execution": {
     "iopub.execute_input": "2023-11-17T18:04:50.178471Z",
     "iopub.status.busy": "2023-11-17T18:04:50.178038Z",
     "iopub.status.idle": "2023-11-17T18:04:50.470565Z",
     "shell.execute_reply": "2023-11-17T18:04:50.469312Z"
    },
    "papermill": {
     "duration": 0.347456,
     "end_time": "2023-11-17T18:04:50.473049",
     "exception": false,
     "start_time": "2023-11-17T18:04:50.125593",
     "status": "completed"
    },
    "tags": []
   },
   "outputs": [
    {
     "data": {
      "text/plain": [
       "[<matplotlib.lines.Line2D at 0x7c1fd4c98fa0>]"
      ]
     },
     "execution_count": 17,
     "metadata": {},
     "output_type": "execute_result"
    },
    {
     "data": {
      "image/png": "[encoded data removed]",
      "text/plain": [
       "<Figure size 640x480 with 1 Axes>"
      ]
     },
     "metadata": {},
     "output_type": "display_data"
    }
   ],
   "source": [
    "plt.plot(history.history['loss'])\n",
    "plt.plot(history.history['val_loss'])"
   ]
  },
  {
   "cell_type": "code",
   "execution_count": 18,
   "id": "8fd62c63",
   "metadata": {
    "execution": {
     "iopub.execute_input": "2023-11-17T18:04:50.579109Z",
     "iopub.status.busy": "2023-11-17T18:04:50.578428Z",
     "iopub.status.idle": "2023-11-17T18:04:50.657161Z",
     "shell.execute_reply": "2023-11-17T18:04:50.656031Z"
    },
    "papermill": {
     "duration": 0.134817,
     "end_time": "2023-11-17T18:04:50.659659",
     "exception": false,
     "start_time": "2023-11-17T18:04:50.524842",
     "status": "completed"
    },
    "tags": []
   },
   "outputs": [
    {
     "name": "stdout",
     "output_type": "stream",
     "text": [
      "1/1 [==============================] - 0s 22ms/step\n"
     ]
    },
    {
     "data": {
      "text/plain": [
       "array([4])"
      ]
     },
     "execution_count": 18,
     "metadata": {},
     "output_type": "execute_result"
    }
   ],
   "source": [
    "model.predict(x_test[6].reshape(1,28,28)).argmax(axis=1)"
   ]
  },
  {
   "cell_type": "code",
   "execution_count": 19,
   "id": "073fa6d3",
   "metadata": {
    "execution": {
     "iopub.execute_input": "2023-11-17T18:04:50.765243Z",
     "iopub.status.busy": "2023-11-17T18:04:50.764813Z",
     "iopub.status.idle": "2023-11-17T18:04:51.048492Z",
     "shell.execute_reply": "2023-11-17T18:04:51.047403Z"
    },
    "papermill": {
     "duration": 0.339416,
     "end_time": "2023-11-17T18:04:51.051089",
     "exception": false,
     "start_time": "2023-11-17T18:04:50.711673",
     "status": "completed"
    },
    "tags": []
   },
   "outputs": [
    {
     "data": {
      "text/plain": [
       "<matplotlib.image.AxesImage at 0x7c1fd4d120e0>"
      ]
     },
     "execution_count": 19,
     "metadata": {},
     "output_type": "execute_result"
    },
    {
     "data": {
      "image/png": "[encoded data removed]",
      "text/plain": [
       "<Figure size 640x480 with 1 Axes>"
      ]
     },
     "metadata": {},
     "output_type": "display_data"
    }
   ],
   "source": [
    "plt.imshow(x_test[6])"
   ]
  },
  {
   "cell_type": "code",
   "execution_count": null,
   "id": "a69ef165",
   "metadata": {
    "papermill": {
     "duration": 0.052323,
     "end_time": "2023-11-17T18:04:51.155929",
     "exception": false,
     "start_time": "2023-11-17T18:04:51.103606",
     "status": "completed"
    },
    "tags": []
   },
   "outputs": [],
   "source": []
  },
  {
   "cell_type": "code",
   "execution_count": null,
   "id": "b6078afc",
   "metadata": {
    "papermill": {
     "duration": 0.052932,
     "end_time": "2023-11-17T18:04:51.260709",
     "exception": false,
     "start_time": "2023-11-17T18:04:51.207777",
     "status": "completed"
    },
    "tags": []
   },
   "outputs": [],
   "source": []
  },
  {
   "cell_type": "code",
   "execution_count": null,
   "id": "ae4af9ac",
   "metadata": {
    "papermill": {
     "duration": 0.052249,
     "end_time": "2023-11-17T18:04:51.365117",
     "exception": false,
     "start_time": "2023-11-17T18:04:51.312868",
     "status": "completed"
    },
    "tags": []
   },
   "outputs": [],
   "source": []
  }
 ],
 "metadata": {
  "kaggle": {
   "accelerator": "none",
   "dataSources": [
    {
     "datasetId": 102285,
     "sourceId": 242592,
     "sourceType": "datasetVersion"
    }
   ],
   "dockerImageVersionId": 30587,
   "isGpuEnabled": false,
   "isInternetEnabled": true,
   "language": "python",
   "sourceType": "notebook"
  },
  "kernelspec": {
   "display_name": "Python 3",
   "language": "python",
   "name": "python3"
  },
  "language_info": {
   "codemirror_mode": {
    "name": "ipython",
    "version": 3
   },
   "file_extension": ".py",
   "mimetype": "text/x-python",
   "name": "python",
   "nbconvert_exporter": "python",
   "pygments_lexer": "ipython3",
   "version": "3.10.12"
  },
  "papermill": {
   "default_parameters": {},
   "duration": 50.208575,
   "end_time": "2023-11-17T18:04:53.042403",
   "environment_variables": {},
   "exception": null,
   "input_path": "__notebook__.ipynb",
   "output_path": "__notebook__.ipynb",
   "parameters": {},
   "start_time": "2023-11-17T18:04:02.833828",
   "version": "2.4.0"
  }
 },
 "nbformat": 4,
 "nbformat_minor": 5
}
